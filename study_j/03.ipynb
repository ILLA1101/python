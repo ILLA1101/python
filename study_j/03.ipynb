{
 "cells": [
  {
   "cell_type": "code",
   "execution_count": 1,
   "metadata": {},
   "outputs": [],
   "source": [
    "#반복문\n",
    "# python 의 반복문에는 for 와 while 이 있다."
   ]
  },
  {
   "cell_type": "code",
   "execution_count": 5,
   "metadata": {},
   "outputs": [
    {
     "name": "stdout",
     "output_type": "stream",
     "text": [
      "0\n",
      "1\n"
     ]
    }
   ],
   "source": [
    "for i in range(2) :  # range = 범위\n",
    "    print(i)"
   ]
  },
  {
   "cell_type": "code",
   "execution_count": 7,
   "metadata": {},
   "outputs": [],
   "source": [
    "# for i in range() :\n",
    "# i = index 변수명 : for 문의 하위 문에서 iterable의 한계의 값을 사용할 때 이용할 변수명\n",
    "# range() = iterable : 반복 가능한 대상\n",
    "# ':'을 기준으로 들여써서 하위문을 만든다."
   ]
  },
  {
   "cell_type": "code",
   "execution_count": 8,
   "metadata": {},
   "outputs": [
    {
     "name": "stdout",
     "output_type": "stream",
     "text": [
      "0\n",
      "2\n",
      "4\n"
     ]
    },
    {
     "data": {
      "text/plain": [
       "'\\n\\n'"
      ]
     },
     "execution_count": 8,
     "metadata": {},
     "output_type": "execute_result"
    }
   ],
   "source": [
    "for i in range(3) :\n",
    "    print(i*2)\n",
    "'''\n",
    "\n",
    "'''    "
   ]
  },
  {
   "cell_type": "code",
   "execution_count": 9,
   "metadata": {},
   "outputs": [
    {
     "name": "stdout",
     "output_type": "stream",
     "text": [
      "1\n",
      "3\n",
      "5\n"
     ]
    }
   ],
   "source": [
    "for i in range(1, 6, 2) :\n",
    "    print(i)"
   ]
  },
  {
   "cell_type": "code",
   "execution_count": 10,
   "metadata": {},
   "outputs": [
    {
     "name": "stdout",
     "output_type": "stream",
     "text": [
      "2\n",
      "4\n",
      "6\n"
     ]
    }
   ],
   "source": [
    "for i in range(2, 7, 2) :\n",
    "    print(i)"
   ]
  },
  {
   "cell_type": "code",
   "execution_count": 11,
   "metadata": {},
   "outputs": [
    {
     "name": "stdout",
     "output_type": "stream",
     "text": [
      "0번 정상\n",
      "2번 정상\n",
      "3번 정상\n"
     ]
    }
   ],
   "source": [
    "for i in range(5):\n",
    "    x = input()\n",
    "    if x == '불량':\n",
    "        continue\n",
    "    \n",
    "    print(f'{i}번 정상')"
   ]
  },
  {
   "cell_type": "code",
   "execution_count": 14,
   "metadata": {},
   "outputs": [
    {
     "name": "stdout",
     "output_type": "stream",
     "text": [
      "이번 선거의 결과는찬성 입니다.\n",
      "이번 선거의 결과는반대 입니다.\n"
     ]
    }
   ],
   "source": [
    "result = '반대'\n",
    "for i in range(5):\n",
    "    temp = input()\n",
    "    if temp == '찬성' :\n",
    "        result = '찬성'\n",
    "        break\n",
    "    else :\n",
    "        result = '반대'\n",
    "        print(f'{i}번이 반대표를 던졌습니다')\n",
    "\n",
    "print(f'이번 선거의 결과는{result} 입니다.')\n",
    "\n",
    "result = '찬성'\n",
    "for i in range(5):\n",
    "    temp = input()\n",
    "    if temp == '반대' :\n",
    "        result = '반대'\n",
    "        break\n",
    "    else :\n",
    "        result = '반대'\n",
    "        print(f'{i}번이 찬성표를 던졌습니다')\n",
    "\n",
    "print(f'이번 선거의 결과는{result} 입니다.')"
   ]
  },
  {
   "cell_type": "code",
   "execution_count": 18,
   "metadata": {},
   "outputs": [
    {
     "name": "stdout",
     "output_type": "stream",
     "text": [
      "반대\n"
     ]
    }
   ],
   "source": [
    "# 0 = yesvote += 1\n",
    "# 1 = novote += 1\n",
    "yesvote = 0\n",
    "novote = 0\n",
    "\n",
    "for i in range(5):\n",
    "    vote = int(input())\n",
    "    if vote == 0 :\n",
    "        yesvote += 1\n",
    "    else :\n",
    "        novote += 1\n",
    "\n",
    "if yesvote > novote :\n",
    "    print('찬성')\n",
    "else :\n",
    "    print('반대')"
   ]
  },
  {
   "cell_type": "code",
   "execution_count": 19,
   "metadata": {},
   "outputs": [
    {
     "name": "stdout",
     "output_type": "stream",
     "text": [
      "1\n"
     ]
    }
   ],
   "source": [
    "while True :\n",
    "    n = int(input())\n",
    "    if n == 999 :\n",
    "        break\n",
    "    else :\n",
    "        print(n)"
   ]
  },
  {
   "cell_type": "code",
   "execution_count": 20,
   "metadata": {},
   "outputs": [
    {
     "name": "stdout",
     "output_type": "stream",
     "text": [
      "5050\n"
     ]
    }
   ],
   "source": [
    "n = 1\n",
    "s = 0\n",
    "while n <= 100 :\n",
    "    s += n\n",
    "    n += 1\n",
    "\n",
    "print(s)    "
   ]
  },
  {
   "cell_type": "code",
   "execution_count": 26,
   "metadata": {},
   "outputs": [],
   "source": [
    "for i in range(10):\n",
    "    pass"
   ]
  },
  {
   "cell_type": "code",
   "execution_count": 1,
   "metadata": {},
   "outputs": [
    {
     "name": "stdout",
     "output_type": "stream",
     "text": [
      "20\n"
     ]
    }
   ],
   "source": [
    "# 함수\n",
    "\n",
    "def times(a, b):\n",
    "    return a * b\n",
    "\n",
    "print(times(4, 5))"
   ]
  },
  {
   "cell_type": "code",
   "execution_count": 2,
   "metadata": {},
   "outputs": [
    {
     "name": "stdout",
     "output_type": "stream",
     "text": [
      "-3\n"
     ]
    }
   ],
   "source": [
    "def func1(x):\n",
    "    return x + 1\n",
    "def func2(x):\n",
    "    return x * 2\n",
    "def func3(x):\n",
    "    return x - 3\n",
    "\n",
    "print(func1(func2(func3(1))))"
   ]
  },
  {
   "cell_type": "code",
   "execution_count": 4,
   "metadata": {},
   "outputs": [
    {
     "name": "stdout",
     "output_type": "stream",
     "text": [
      "10 9 8 7 6 5 4 3 2 1 "
     ]
    }
   ],
   "source": [
    "def CountDown(n):\n",
    "    if n == 0:\n",
    "        return\n",
    "    print(n, end=' ')\n",
    "    CountDown(n-1)\n",
    "CountDown(10)    "
   ]
  },
  {
   "cell_type": "code",
   "execution_count": 6,
   "metadata": {},
   "outputs": [
    {
     "name": "stdout",
     "output_type": "stream",
     "text": [
      "None\n"
     ]
    }
   ],
   "source": [
    "def My_big_function():\n",
    "    pass\n",
    "\n",
    "print(My_big_function())"
   ]
  },
  {
   "cell_type": "code",
   "execution_count": null,
   "metadata": {},
   "outputs": [],
   "source": []
  }
 ],
 "metadata": {
  "kernelspec": {
   "display_name": "Python 3.9.13 64-bit (microsoft store)",
   "language": "python",
   "name": "python3"
  },
  "language_info": {
   "codemirror_mode": {
    "name": "ipython",
    "version": 3
   },
   "file_extension": ".py",
   "mimetype": "text/x-python",
   "name": "python",
   "nbconvert_exporter": "python",
   "pygments_lexer": "ipython3",
   "version": "3.9.13"
  },
  "orig_nbformat": 4,
  "vscode": {
   "interpreter": {
    "hash": "516f3116c7d964711378d4f408b8c11789072a881e265fd8fc55b8274d31d713"
   }
  }
 },
 "nbformat": 4,
 "nbformat_minor": 2
}
