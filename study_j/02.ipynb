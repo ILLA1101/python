{
 "cells": [
  {
   "cell_type": "code",
   "execution_count": 70,
   "metadata": {},
   "outputs": [],
   "source": [
    "#문자열과 제어문"
   ]
  },
  {
   "cell_type": "code",
   "execution_count": 71,
   "metadata": {},
   "outputs": [],
   "source": [
    "# str()\n",
    "\n",
    "Strint = input()"
   ]
  },
  {
   "cell_type": "code",
   "execution_count": 72,
   "metadata": {},
   "outputs": [
    {
     "name": "stdout",
     "output_type": "stream",
     "text": [
      "2\n"
     ]
    }
   ],
   "source": [
    "# count()\n",
    "\n",
    "print(\"Hello World\".count('o'))"
   ]
  },
  {
   "cell_type": "code",
   "execution_count": 73,
   "metadata": {},
   "outputs": [
    {
     "name": "stdout",
     "output_type": "stream",
     "text": [
      "True\n",
      "False\n"
     ]
    }
   ],
   "source": [
    "print(\"Hello World\".count('o') > 0)\n",
    "print(\"Hello World\".count('o') < 0)"
   ]
  },
  {
   "cell_type": "code",
   "execution_count": 74,
   "metadata": {},
   "outputs": [
    {
     "name": "stdout",
     "output_type": "stream",
     "text": [
      "True\n"
     ]
    }
   ],
   "source": [
    "print('a' in 'abc')"
   ]
  },
  {
   "cell_type": "code",
   "execution_count": 75,
   "metadata": {},
   "outputs": [
    {
     "name": "stdout",
     "output_type": "stream",
     "text": [
      "True\n"
     ]
    }
   ],
   "source": [
    "print('개' in '개 벌레')"
   ]
  },
  {
   "cell_type": "code",
   "execution_count": 76,
   "metadata": {},
   "outputs": [
    {
     "name": "stdout",
     "output_type": "stream",
     "text": [
      "False\n"
     ]
    }
   ],
   "source": [
    "Email = input()\n",
    "\n",
    "print('@' in Email)"
   ]
  },
  {
   "cell_type": "code",
   "execution_count": 77,
   "metadata": {},
   "outputs": [
    {
     "name": "stdout",
     "output_type": "stream",
     "text": [
      "h\n",
      "e\n",
      "l\n",
      "l\n",
      "o\n"
     ]
    }
   ],
   "source": [
    "# list slicing\n",
    "\n",
    "s = 'hello'\n",
    "print(s[0])\n",
    "print(s[1])\n",
    "print(s[2])\n",
    "print(s[3])\n",
    "print(s[4])"
   ]
  },
  {
   "cell_type": "code",
   "execution_count": 78,
   "metadata": {},
   "outputs": [
    {
     "name": "stdout",
     "output_type": "stream",
     "text": [
      "n\n"
     ]
    }
   ],
   "source": [
    "s = 'python'\n",
    "print(s[-1])"
   ]
  },
  {
   "cell_type": "code",
   "execution_count": 79,
   "metadata": {},
   "outputs": [
    {
     "name": "stdout",
     "output_type": "stream",
     "text": [
      "1\n"
     ]
    }
   ],
   "source": [
    "s = '012'\n",
    "print(s[-2])"
   ]
  },
  {
   "cell_type": "code",
   "execution_count": 80,
   "metadata": {},
   "outputs": [
    {
     "name": "stdout",
     "output_type": "stream",
     "text": [
      "0\n",
      "3\n"
     ]
    }
   ],
   "source": [
    "# index()\n",
    "\n",
    "s = 'abcdefg'\n",
    "\n",
    "print(s.index('a'))\n",
    "print(s.index('d'))"
   ]
  },
  {
   "cell_type": "code",
   "execution_count": 81,
   "metadata": {},
   "outputs": [],
   "source": [
    "s = 'abcdefg'\n",
    "\n",
    "if 'h' in s : \n",
    "    print(s.index('h'))"
   ]
  },
  {
   "cell_type": "code",
   "execution_count": 82,
   "metadata": {},
   "outputs": [
    {
     "name": "stdout",
     "output_type": "stream",
     "text": [
      "010\n"
     ]
    }
   ],
   "source": [
    "# s[start, stop, step]\n",
    "\n",
    "print('010-1234-5678'[0:3])"
   ]
  },
  {
   "cell_type": "code",
   "execution_count": 83,
   "metadata": {},
   "outputs": [
    {
     "name": "stdout",
     "output_type": "stream",
     "text": [
      "0-358\n"
     ]
    }
   ],
   "source": [
    "print('010-1234-5678'[::3]) # 출력하고 2칸뒤 출력 또 2칸뒤 출력"
   ]
  },
  {
   "cell_type": "code",
   "execution_count": 84,
   "metadata": {},
   "outputs": [
    {
     "name": "stdout",
     "output_type": "stream",
     "text": [
      "1234\n"
     ]
    }
   ],
   "source": [
    "print('010-1234-5678'[4:8])"
   ]
  },
  {
   "cell_type": "code",
   "execution_count": 85,
   "metadata": {},
   "outputs": [
    {
     "name": "stdout",
     "output_type": "stream",
     "text": [
      "cba\n"
     ]
    }
   ],
   "source": [
    "s = 'abc'\n",
    "\n",
    "reversed_s = s[::-1]\n",
    "print(reversed_s)"
   ]
  },
  {
   "cell_type": "code",
   "execution_count": 86,
   "metadata": {},
   "outputs": [
    {
     "name": "stdout",
     "output_type": "stream",
     "text": [
      "식식박동자갑천삼미루두와이북거무환수김\n"
     ]
    }
   ],
   "source": [
    "s = '김수환무거북이와두루미삼천갑자동박식식'\n",
    "print(s[::-1])"
   ]
  },
  {
   "cell_type": "code",
   "execution_count": 87,
   "metadata": {},
   "outputs": [
    {
     "name": "stdout",
     "output_type": "stream",
     "text": [
      "12짝!456789\n"
     ]
    }
   ],
   "source": [
    "s = '123456789'\n",
    "print(s.replace('3', '짝!'))"
   ]
  },
  {
   "cell_type": "code",
   "execution_count": 88,
   "metadata": {},
   "outputs": [
    {
     "name": "stdout",
     "output_type": "stream",
     "text": [
      "99000\n"
     ]
    }
   ],
   "source": [
    "s = '99,000'\n",
    "s = s.replace(',', '')\n",
    "print(s)"
   ]
  },
  {
   "cell_type": "code",
   "execution_count": 89,
   "metadata": {},
   "outputs": [
    {
     "name": "stdout",
     "output_type": "stream",
     "text": [
      "0123456789\n",
      "01012345678\n",
      "False\n"
     ]
    }
   ],
   "source": [
    "s1 = '0123456789'\n",
    "s2 = '010-1234-5678'\n",
    "s1 = s1.replace('-', '')\n",
    "s2 = s2.replace('-', '')\n",
    "print(s1)\n",
    "print(s2)\n",
    "print(s1 == s2)"
   ]
  },
  {
   "cell_type": "code",
   "execution_count": 90,
   "metadata": {},
   "outputs": [
    {
     "name": "stdout",
     "output_type": "stream",
     "text": [
      "ABC\n",
      "ABC\n",
      "abc\n",
      "abc\n"
     ]
    }
   ],
   "source": [
    "User = 'ABC'\n",
    "NewUser = 'abc'\n",
    "\n",
    "print(User.upper())\n",
    "print(NewUser.upper())\n",
    "print(User.lower())\n",
    "print(NewUser.lower())"
   ]
  },
  {
   "cell_type": "code",
   "execution_count": 91,
   "metadata": {},
   "outputs": [
    {
     "name": "stdout",
     "output_type": "stream",
     "text": [
      "a는 1 이고 b는 2 이다.\n"
     ]
    }
   ],
   "source": [
    "# f-string\n",
    "\n",
    "a = 1\n",
    "b = 2\n",
    "\n",
    "print(\"a는\", a , '이고 b는', b ,'이다.')"
   ]
  },
  {
   "cell_type": "code",
   "execution_count": 92,
   "metadata": {},
   "outputs": [
    {
     "name": "stdout",
     "output_type": "stream",
     "text": [
      "a는1이고 b는2이다.\n"
     ]
    }
   ],
   "source": [
    "print(f'a는{a}이고 b는{b}이다.')"
   ]
  },
  {
   "cell_type": "code",
   "execution_count": 93,
   "metadata": {},
   "outputs": [
    {
     "name": "stdout",
     "output_type": "stream",
     "text": [
      "3.14\n"
     ]
    }
   ],
   "source": [
    "pi = 3.14159265\n",
    "print(f'{pi:.2f}')"
   ]
  },
  {
   "cell_type": "code",
   "execution_count": 94,
   "metadata": {},
   "outputs": [
    {
     "name": "stdout",
     "output_type": "stream",
     "text": [
      "3.14\n"
     ]
    }
   ],
   "source": [
    "print(int(pi * 100)/100)"
   ]
  },
  {
   "cell_type": "code",
   "execution_count": 95,
   "metadata": {},
   "outputs": [
    {
     "name": "stdout",
     "output_type": "stream",
     "text": [
      "3.141592\n"
     ]
    }
   ],
   "source": [
    "pi = 3.14159265358979323846264338327\n",
    "print(int(pi * 1000000)/1000000)"
   ]
  },
  {
   "cell_type": "code",
   "execution_count": 96,
   "metadata": {},
   "outputs": [
    {
     "name": "stdout",
     "output_type": "stream",
     "text": [
      "ff00\n",
      "FF00\n",
      "177400\n",
      "1111111100000000\n"
     ]
    }
   ],
   "source": [
    "x = 65280\n",
    "print(f'{x:x}')\n",
    "print(f'{x:X}')\n",
    "print(f'{x:o}')\n",
    "print(f'{x:b}')"
   ]
  },
  {
   "cell_type": "code",
   "execution_count": 97,
   "metadata": {},
   "outputs": [
    {
     "name": "stdout",
     "output_type": "stream",
     "text": [
      "*\n",
      "**\n",
      "***\n",
      "**\n",
      "*\n"
     ]
    }
   ],
   "source": [
    "print('*'*1)\n",
    "print('*'*2)\n",
    "print('*'*3)\n",
    "print('*'*2)\n",
    "print('*'*1)"
   ]
  },
  {
   "cell_type": "code",
   "execution_count": 1,
   "metadata": {},
   "outputs": [
    {
     "name": "stdout",
     "output_type": "stream",
     "text": [
      "*\n"
     ]
    }
   ],
   "source": [
    "for i in range(int(input())):\n",
    "    print('*' * (i+1)) # 같은줄 출력할려면 ,end=''"
   ]
  },
  {
   "cell_type": "code",
   "execution_count": null,
   "metadata": {},
   "outputs": [
    {
     "name": "stdout",
     "output_type": "stream",
     "text": [
      "아이스크림\n"
     ]
    }
   ],
   "source": [
    "temperature = 31\n",
    "if temperature >= 30:\n",
    "    print('아이스크림')\n",
    "else :\n",
    "    print('핫초코')    "
   ]
  },
  {
   "cell_type": "code",
   "execution_count": null,
   "metadata": {},
   "outputs": [
    {
     "name": "stdout",
     "output_type": "stream",
     "text": [
      "ice\n"
     ]
    }
   ],
   "source": [
    "if True :\n",
    "    print('ice')\n",
    "elif False :\n",
    "    print('핫초코')\n",
    "else :\n",
    "    print('컵라면')    "
   ]
  },
  {
   "cell_type": "code",
   "execution_count": null,
   "metadata": {},
   "outputs": [],
   "source": [
    "if 1 == 0:\n",
    "    print('zero')"
   ]
  },
  {
   "cell_type": "code",
   "execution_count": null,
   "metadata": {},
   "outputs": [
    {
     "name": "stdout",
     "output_type": "stream",
     "text": [
      "홀수\n",
      "홀수\n"
     ]
    }
   ],
   "source": [
    "if int(input()) % 2 == 1 :\n",
    "    print('홀수')\n",
    "if int(input()) % 2 == 1 :\n",
    "    print('홀수')\n",
    "if int(input()) % 2 == 1 :\n",
    "    print('홀수')"
   ]
  },
  {
   "cell_type": "code",
   "execution_count": null,
   "metadata": {},
   "outputs": [
    {
     "name": "stdout",
     "output_type": "stream",
     "text": [
      "1\n",
      "0\n",
      "1\n",
      "0\n",
      "1\n"
     ]
    }
   ],
   "source": [
    "print(1%2)\n",
    "print(2%2)\n",
    "print(3%2)\n",
    "print(4%2)\n",
    "print(5%2)"
   ]
  },
  {
   "cell_type": "code",
   "execution_count": null,
   "metadata": {},
   "outputs": [],
   "source": [
    "print(1%2 == 0)\n",
    "print(2%2 == 0)\n",
    "print(3%2 == 0)\n",
    "print(4%2 == 0)\n",
    "print(5%2 == 0)"
   ]
  },
  {
   "cell_type": "code",
   "execution_count": null,
   "metadata": {},
   "outputs": [
    {
     "name": "stdout",
     "output_type": "stream",
     "text": [
      "True\n",
      "False\n",
      "True\n"
     ]
    }
   ],
   "source": [
    "print(1%2 == 1)\n",
    "print(2%2 == 1)\n",
    "print(3%2 == 1)"
   ]
  },
  {
   "cell_type": "code",
   "execution_count": null,
   "metadata": {},
   "outputs": [
    {
     "name": "stdout",
     "output_type": "stream",
     "text": [
      "+\n"
     ]
    }
   ],
   "source": [
    "n = int(input())\n",
    "\n",
    "if n > 0 : \n",
    "    print('+')\n",
    "elif n < 0 :\n",
    "    print('-')\n",
    "else :\n",
    "    print(0)        "
   ]
  },
  {
   "cell_type": "code",
   "execution_count": null,
   "metadata": {},
   "outputs": [
    {
     "name": "stdout",
     "output_type": "stream",
     "text": [
      "핫초코 큰 사이즈 주문받았습니다.\n"
     ]
    }
   ],
   "source": [
    "# 메뉴 : 레몬에이드, 핫초코\n",
    "# 사이즈 : 큰 사이즈, 작은 사이즈\n",
    "\n",
    "menu = input()\n",
    "size = input()\n",
    "\n",
    "if menu == '레모네이드':\n",
    "    if size == '큰 사이즈':\n",
    "        print('레몬에이드 큰 사이즈 주문받았습니다.')\n",
    "    else :\n",
    "        print('레모네이드 작은 사이즈 주문받았습니다.')\n",
    "if menu == '핫초코':\n",
    "    if size == '큰 사이즈':\n",
    "        print('핫초코 큰 사이즈 주문받았습니다.')\n",
    "    else :\n",
    "        print('핫초코 작은 사이즈 주문받았습니다.')"
   ]
  },
  {
   "cell_type": "code",
   "execution_count": null,
   "metadata": {},
   "outputs": [],
   "source": [
    "n = int(input())\n",
    "\n",
    "if n < 1000 :\n",
    "  if  n % 2 == 0 :\n",
    "    if n % 3 == 0 :\n",
    "       if n % 5 == 0 :\n",
    "         if n % 7 == 0 :\n",
    "           print('1000보다 작고 2와 3과 5, 7의 공배수', n)\n",
    "\n",
    "\n",
    "#이것은 jargon(전문용어) if hell 이라고 한다.\n",
    "#if hell 에 빠지지 않고 코드를 짜는것이 좋습니다. "
   ]
  },
  {
   "cell_type": "code",
   "execution_count": null,
   "metadata": {},
   "outputs": [
    {
     "name": "stdout",
     "output_type": "stream",
     "text": [
      "레모네이드 작은 사이즈 주문받았습니다.\n"
     ]
    }
   ],
   "source": [
    "# 매뉴(menu) : 레몬에이드, 핫초코\n",
    "# 사이즈(size) : 큰 사이즈, 작은 사이즈\n",
    "\n",
    "menu = input()\n",
    "size = input()\n",
    "p = ''\n",
    "\n",
    "if menu == '레모네이드':\n",
    "    p = '레모네이드'\n",
    "else :\n",
    "    p = '핫초코'\n",
    "\n",
    "if size == '큰 사이즈':\n",
    "    p += ' 큰 사이즈 주문받았습니다.'\n",
    "else :\n",
    "    p += ' 작은 사이즈 주문받았습니다.'\n",
    "\n",
    "print(p)"
   ]
  },
  {
   "cell_type": "code",
   "execution_count": 100,
   "metadata": {},
   "outputs": [
    {
     "name": "stdout",
     "output_type": "stream",
     "text": [
      "28.71047932495361\n",
      "비만\n"
     ]
    }
   ],
   "source": [
    "height = 169 / 100\n",
    "weight = 82\n",
    "\n",
    "i = (weight/(height * height))\n",
    "\n",
    "print(i)\n",
    "if i >= 25 :\n",
    "    print('비만')\n",
    "elif i >= 23 :\n",
    "    print('과체중') \n",
    "elif i >= 18.5 :\n",
    "    print('정상')\n",
    "else :\n",
    "    print('저체중')          "
   ]
  }
 ],
 "metadata": {
  "kernelspec": {
   "display_name": "Python 3.11.0 64-bit",
   "language": "python",
   "name": "python3"
  },
  "language_info": {
   "codemirror_mode": {
    "name": "ipython",
    "version": 3
   },
   "file_extension": ".py",
   "mimetype": "text/x-python",
   "name": "python",
   "nbconvert_exporter": "python",
   "pygments_lexer": "ipython3",
   "version": "3.11.0"
  },
  "orig_nbformat": 4,
  "vscode": {
   "interpreter": {
    "hash": "e2ae86518d626866949d1d82998c990e36eb74d0d12928e6fbb4841aa86aa515"
   }
  }
 },
 "nbformat": 4,
 "nbformat_minor": 2
}
